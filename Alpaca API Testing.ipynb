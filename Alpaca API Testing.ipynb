{
 "cells": [
  {
   "cell_type": "code",
   "execution_count": 1,
   "metadata": {},
   "outputs": [
    {
     "name": "stderr",
     "output_type": "stream",
     "text": [
      "c:\\Users\\Public\\anaconda3\\lib\\site-packages\\pandas\\core\\computation\\expressions.py:21: UserWarning: Pandas requires version '2.8.4' or newer of 'numexpr' (version '2.8.3' currently installed).\n",
      "  from pandas.core.computation.check import NUMEXPR_INSTALLED\n",
      "c:\\Users\\Public\\anaconda3\\lib\\site-packages\\pandas\\core\\arrays\\masked.py:60: UserWarning: Pandas requires version '1.3.6' or newer of 'bottleneck' (version '1.3.5' currently installed).\n",
      "  from pandas.core import (\n"
     ]
    }
   ],
   "source": [
    "from alpaca.trading.client import TradingClient\n",
    "from alpaca.trading.requests import MarketOrderRequest, LimitOrderRequest\n",
    "from alpaca.trading.enums import OrderSide, TimeInForce, OrderType\n",
    "from alpaca.data.historical.option import OptionHistoricalDataClient\n",
    "from alpaca.trading.requests import GetOptionContractsRequest\n",
    "\n",
    "# Define your API keys\n",
    "api_key = \"PKE6XBHTF3BZDWYWM7B6\"\n",
    "secret_key = \"rDmFZvisA5TcHqsKO3dcBVNmNK5rjHDRwsGXFvSz\"\n",
    "\n",
    "# Set up the Alpaca trading client for paper trading\n",
    "paper = True\n",
    "trade_client = TradingClient(api_key=api_key, secret_key=secret_key, paper=paper)\n",
    "\n",
    "# Example: Fetch Option Contracts\n",
    "option_data_client = OptionHistoricalDataClient(api_key=api_key, secret_key=secret_key)"
   ]
  },
  {
   "cell_type": "code",
   "execution_count": 2,
   "metadata": {},
   "outputs": [
    {
     "name": "stdout",
     "output_type": "stream",
     "text": [
      "id=UUID('380c1947-11e3-4060-bf8a-fbb96466b567') client_order_id='1d3031bb-afe4-4254-941c-b47fface04be' created_at=datetime.datetime(2024, 12, 12, 12, 57, 46, 814467, tzinfo=TzInfo(UTC)) updated_at=datetime.datetime(2024, 12, 12, 12, 57, 46, 815511, tzinfo=TzInfo(UTC)) submitted_at=datetime.datetime(2024, 12, 12, 12, 57, 46, 814467, tzinfo=TzInfo(UTC)) filled_at=None expired_at=None canceled_at=None failed_at=None replaced_at=None replaced_by=None replaces=None asset_id=UUID('4ea43090-b5be-42bd-a4a8-f4607616fe0e') symbol='X' asset_class=<AssetClass.US_EQUITY: 'us_equity'> notional=None qty='1' filled_qty='0' filled_avg_price=None order_class=<OrderClass.SIMPLE: 'simple'> order_type=<OrderType.MARKET: 'market'> type=<OrderType.MARKET: 'market'> side=<OrderSide.BUY: 'buy'> time_in_force=<TimeInForce.GTC: 'gtc'> limit_price=None stop_price=None status=<OrderStatus.PENDING_NEW: 'pending_new'> extended_hours=False legs=None trail_percent=None trail_price=None hwm=None\n"
     ]
    }
   ],
   "source": [
    "\n",
    "\n",
    "# # Example Request for Option Contracts\n",
    "# contracts_request = GetOptionContractsRequest(\n",
    "#     symbol=\"AAPL\", # Symbol for the asset (e.g., Apple)\n",
    "#     expiration_date=\"2024-10-20\", # Set expiration date\n",
    "#     contract_type=\"call\", # Choose either 'call' or 'put'\n",
    "# )\n",
    "\n",
    "# option_contracts = trade_client.get_option_contracts(contracts_request)\n",
    "\n",
    "# # Print Option Contracts\n",
    "# for contract in option_contracts:\n",
    "#     print(contract)\n",
    "\n",
    "# Example: Place a market order for an option contract\n",
    "order_request = MarketOrderRequest(\n",
    "    symbol=\"X\",  # Underlying symbol\n",
    "    qty=1,          # Number of option contracts\n",
    "    side=OrderSide.BUY,\n",
    "    time_in_force=TimeInForce.GTC  # Good Till Canceled\n",
    ")\n",
    "\n",
    "order = trade_client.submit_order(order_request)\n",
    "print(order)\n",
    "\n"
   ]
  },
  {
   "cell_type": "code",
   "execution_count": 5,
   "metadata": {},
   "outputs": [
    {
     "name": "stdout",
     "output_type": "stream",
     "text": [
      "Order ID: 318c168f-88de-4987-b6e8-1b8466a81e93\n",
      "Status: filled\n",
      "Symbol: X\n",
      "Quantity: 1\n",
      "Filled Quantity: 1\n",
      "Type: market\n",
      "Side: sell\n",
      "Submitted At: 2024-11-08 17:49:24.996279+00:00\n",
      "Filled At: 2024-11-08 17:49:25.418652+00:00\n"
     ]
    }
   ],
   "source": [
    "# Example: Get order info using order_id\n",
    "order_id = \"318c168f-88de-4987-b6e8-1b8466a81e93\"\n",
    "#trade_client.cancel_order_by_id(order_id)\n",
    "# Fetch order details by ID\n",
    "order = trade_client.get_order_by_id(order_id)\n",
    "\n",
    "# Print the order details\n",
    "print(f\"Order ID: {order.id}\")\n",
    "print(f\"Status: {order.status}\")\n",
    "print(f\"Symbol: {order.symbol}\")\n",
    "print(f\"Quantity: {order.qty}\")\n",
    "print(f\"Filled Quantity: {order.filled_qty}\")\n",
    "print(f\"Type: {order.order_type}\")\n",
    "print(f\"Side: {order.side}\")\n",
    "print(f\"Submitted At: {order.submitted_at}\")\n",
    "print(f\"Filled At: {order.filled_at if order.filled_at else 'Not yet filled'}\")"
   ]
  },
  {
   "cell_type": "code",
   "execution_count": 6,
   "metadata": {},
   "outputs": [
    {
     "name": "stdout",
     "output_type": "stream",
     "text": [
      "[]\n"
     ]
    }
   ],
   "source": [
    "print(trade_client.get_all_positions())"
   ]
  },
  {
   "cell_type": "markdown",
   "metadata": {},
   "source": [
    "Selling Order Working"
   ]
  },
  {
   "cell_type": "code",
   "execution_count": 4,
   "metadata": {},
   "outputs": [
    {
     "name": "stdout",
     "output_type": "stream",
     "text": [
      "Current Position Size: 1\n",
      "Order to close 1 shares of X submitted.\n",
      "Order ID: 318c168f-88de-4987-b6e8-1b8466a81e93, Status: pending_new\n"
     ]
    }
   ],
   "source": [
    "# Define the symbol and the quantity you want to close\n",
    "symbol = \"X\"  # Replace with your position symbol\n",
    "quantity_to_close = 1  # Quantity to close (must be <= current position size)\n",
    "\n",
    "# Fetch the current position to ensure the quantity is valid\n",
    "position = trade_client.get_open_position(symbol)\n",
    "print(f\"Current Position Size: {position.qty}\")\n",
    "\n",
    "if float(position.qty) >= quantity_to_close:\n",
    "    # Create a market order to close the specified quantity\n",
    "    close_order = MarketOrderRequest(\n",
    "        symbol=symbol,\n",
    "        qty=quantity_to_close,\n",
    "        side=OrderSide.SELL if float(position.qty) > 0 else OrderSide.BUY,  # Sell if long, buy if short\n",
    "        time_in_force=TimeInForce.DAY,\n",
    "    )\n",
    "\n",
    "    # Submit the order\n",
    "    order = trade_client.submit_order(close_order)\n",
    "    print(f\"Order to close {quantity_to_close} shares of {symbol} submitted.\")\n",
    "    print(f\"Order ID: {order.id}, Status: {order.status}\")\n",
    "\n",
    "else:\n",
    "    print(f\"Not enough quantity to close. Current size is {position.qty}.\")"
   ]
  },
  {
   "cell_type": "code",
   "execution_count": 9,
   "metadata": {},
   "outputs": [
    {
     "name": "stdout",
     "output_type": "stream",
     "text": [
      "Position: META, Qty: 3.716068348, Side: long, Market Value: 2335.548957, Avg Entry Price: 580.393333\n",
      "Position: NLY, Qty: 124.285714285, Side: long, Market Value: 2455.885714, Avg Entry Price: 19.673333\n",
      "Position: OTIS, Qty: 27.523857358, Side: long, Market Value: 2686.603717, Avg Entry Price: 100.473333\n",
      "Position: PATK, Qty: 23.412818955, Side: long, Market Value: 3166.817892, Avg Entry Price: 131.18\n",
      "Position: PPG, Qty: 28.382027989, Side: long, Market Value: 3479.352811, Avg Entry Price: 123.18\n",
      "Position: SGRY, Qty: 129.591497841, Side: long, Market Value: 2721.421455, Avg Entry Price: 26.55\n",
      "Position: SWKS, Qty: 51.769285208, Side: long, Market Value: 4509.104742, Avg Entry Price: 83.58\n",
      "Position: TER, Qty: 46.115054165, Side: long, Market Value: 5533.8065, Avg Entry Price: 106.95\n",
      "Position: XRX, Qty: 637.772675086, Side: long, Market Value: 5644.288175, Avg Entry Price: 8.503333\n",
      "No open orders found.\n"
     ]
    }
   ],
   "source": [
    "# Fetch all open positions\n",
    "positions = trade_client.get_all_positions()\n",
    "if not positions:\n",
    "    print(\"No open positions found.\")\n",
    "else:\n",
    "    for pos in positions:\n",
    "        print(f\"Position: {pos.symbol}, Qty: {pos.qty}, Side: {pos.side}, \"\n",
    "              f\"Market Value: {pos.market_value}, Avg Entry Price: {pos.avg_entry_price}\")\n",
    "\n",
    "# Fetch all open orders (only those with 'open' status)\n",
    "orders = trade_client.get_orders()\n",
    "open_orders = [order for order in orders if order.status == 'open']\n",
    "\n",
    "if not open_orders:\n",
    "    print(\"No open orders found.\")\n",
    "else:\n",
    "    for order in open_orders:\n",
    "        print(f\"Order ID: {order.id}, Symbol: {order.symbol}, Side: {order.side}, \"\n",
    "              f\"Qty: {order.qty}, Status: {order.status}, Type: {order.order_type}\")"
   ]
  },
  {
   "cell_type": "code",
   "execution_count": 3,
   "metadata": {},
   "outputs": [],
   "source": [
    "# Assuming you have the trade_client object initialized\n",
    "all_orders = trade_client.get_orders()\n",
    "\n",
    "for order in all_orders:\n",
    "    if order.status == \"new\":\n",
    "        trade_client.cancel_order_by_id(order.id)\n",
    "    print(f\"Canceled order {order.id}, status: {order.status}, filled: {order.filled_qty}\")"
   ]
  },
  {
   "cell_type": "code",
   "execution_count": 5,
   "metadata": {},
   "outputs": [
    {
     "data": {
      "text/plain": [
       "[]"
      ]
     },
     "execution_count": 5,
     "metadata": {},
     "output_type": "execute_result"
    }
   ],
   "source": [
    "trade_client.close_all_positions()"
   ]
  },
  {
   "cell_type": "code",
   "execution_count": null,
   "metadata": {},
   "outputs": [],
   "source": [
    "\n"
   ]
  },
  {
   "cell_type": "code",
   "execution_count": null,
   "metadata": {},
   "outputs": [],
   "source": []
  }
 ],
 "metadata": {
  "kernelspec": {
   "display_name": "Python 3",
   "language": "python",
   "name": "python3"
  },
  "language_info": {
   "codemirror_mode": {
    "name": "ipython",
    "version": 3
   },
   "file_extension": ".py",
   "mimetype": "text/x-python",
   "name": "python",
   "nbconvert_exporter": "python",
   "pygments_lexer": "ipython3",
   "version": "3.9.13"
  }
 },
 "nbformat": 4,
 "nbformat_minor": 2
}
